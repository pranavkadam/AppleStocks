def Execute2(data = 'AAPL.csv', style = 'SMA', shorter = 9, longer = 50, loss_level = 0.985, gain_level = 1.015):
    
    #must run twice, error reading in shorter/longer into buy/sell
    #print('start')
    import numpy as np
    import pandas as pd
    
    #print('imports')
    Index(data)
    buy_sign = Indicator_buy(data, style, shorter, longer)
    buy_length = len(buy_sign)
    #print('buy done')
    sell_sign = Indicator_sell(data, style, shorter, longer)
    sell_length = len(sell_sign)
    #print('sell done')
    #print(buy_sign)
    #print(sell_sign)
    df = pd.read_csv(data)
    #print('data read')
    shift = longer + 2
    i = len(df) - shift      #Use 52 so we get second data point with SMA9 and SMA50
    #print(df.loc[1])
    Old = False
    #print(df.loc[i])
    balance = 500
    prevbalance = balance
    opentrade = False
    buy_break = False
    sell_break = False
    max_down = balance
    tradetime = 0
    final = []
    win_count = 0
    loss_count = 0
    difference = 0
    unused_loss = 0
    tax_time = False
    #print('start loop')
    while(i>=0):
        #if(i == len(df) - 52):
        #    print('start')
        #print('{}, {}'.format(i, opentrade))
        if(df.loc[i]['timestamp'][5:7] == '01' and df.loc[i+1]['timestamp'][5:7] == '12'):
            if(opentrade == True):
                sell_price = buy_price*gain_level
                sell_time = df.loc[i]['Index']                        #tax sales are not counted as win or loss
                tradetime += (sell_time - buy_time)
                opentrade = False
                balance += shares*sell_price
                max_down= min(balance, max_down)
                final.append(balance)
                print('sale from tax')
                
            difference = balance - prevbalance
            print('difference at december: {}'.format(difference))
            tax_time = True
        if(df.loc[i]['timestamp'][5:7] == '04' and opentrade == False):
            if(tax_time == True):
                print('unused loss: {}'.format(unused_loss))
                if(difference > 0):      #year profit
                    if(unused_loss > 0):
                        difference = difference - unused_loss
                        if(difference > 0):
                            print('Pay taxes; balance before: {}'.format(balance))
                            balance -= difference
                            print('Balance after: {}'.format(balance))
                            unused_loss = 0
                        if(difference <= 0):
                            unused_loss = -1*difference
                            print('Diff > 0; Unused > 0; No taxes; Unused loss: {}'.format(unused_loss)
                if(difference < 0):
                    unused_loss += -1*difference
                    print('Diff < 0; Unused loss: {}'.format(unused_loss))
                
                tax_time = False
        if(df.loc[i]['timestamp'][5:] == '04-13' and tax_time == True):
            print('whooops')
        if(opentrade == False):
            if(buy_break == False):
                while(df.loc[i]['timestamp'] > buy_sign[0]):
                    #print('i: {}'.format(df.loc[i]['timestamp']))
                    #print('b: {}'.format(buy_sign[0]))
                    del buy_sign[0]
                    if not buy_sign:
                        buy_break = True
                        break
                        
            if(buy_break == False):
                if(df.loc[i]['timestamp'] == buy_sign[0]):
                    opentrade = True
                    buy_price = df.loc[i]['close']
                    buy_time = df.loc[i]['Index']
                    shares = int(balance/buy_price)
                    balance -= shares*(buy_price)
                    #print('Buy: {} {}'.format(df.loc[i]['timestamp'], buy_price))
                    #print('Shares: {}'.format(shares))
                    #print('Balance: {}'.format(balance))
            
        if(opentrade == True):
            if(sell_break == False):
                while(df.loc[i]['timestamp'] > sell_sign[0]):
                    #print('i: {}'.format(df.loc[i]['timestamp']))
                    #print('s: {}'.format(sell_sign[0]))
                    del sell_sign[0]
                    if not sell_sign:
                        sell_break = True
                        break
               
             
            if(df.loc[i]['close']<=buy_price*loss_level):
                if(df.loc[i]['open']<=buy_price*loss_level):
                    sell_price = df.loc[i]['open']
                    sell_time = df.loc[i]['Index']
               
                else:
                    sell_price = buy_price*loss_level
                    sell_time = df.loc[i]['Index']
                    
                tradetime += (sell_time - buy_time)
                opentrade = False
                balance += shares*sell_price
                #print('Stop loss: {} {}'.format(df.loc[i]['timestamp'], sell_price))
                #print('Shares: {}'.format(shares))
                #print('Balance: {}'.format(balance))
                max_down= min(balance, max_down)
                final.append(balance)
                loss_count += 1
                
            elif(df.loc[i]['close']>=buy_price*gain_level):
                if(df.loc[i]['open']>=buy_price*gain_level):
                    sell_price = df.loc[i]['open']
                    sell_time = df.loc[i]['Index']
                    
                else:
                    sell_price = buy_price*gain_level
                    sell_time = df.loc[i]['Index']
                    
                tradetime += (sell_time - buy_time)
                opentrade = False
                balance += shares*sell_price
                #print('Limit sell: {} {}'.format(df.loc[i]['timestamp'], sell_price))
                #print('Shares: {}'.format(shares))
                #print('Balance: {}'.format(balance))
                max_down= min(balance, max_down)
                final.append(balance)
                win_count += 1
            
            else:
                if(sell_break == False):
                    if(df.loc[i]['timestamp'] == sell_sign[0]):
                        sell_price = df.loc[i]['close']
                        sell_time = df.loc[i]['Index']
                        tradetime += (sell_time - buy_time)
                        opentrade = False
                        balance += shares*sell_price
                        #print('SMA cross: {} {}'.format(df.loc[i]['timestamp'], sell_price))
                        #print('Shares: {}'.format(shares))
                        #print('Balance: {}'.format(balance))
                        max_down= min(balance, max_down)
                        final.append(balance)
                        if(sell_price > buy_price):
                            win_count += 1
                        if(sell_price < buy_price):
                            loss_count += 1
        i -= 1     #note that i's count down so prior data points have higher index than current and future points
    buy_hold = Buy_and_Hold(data)
    x = ('{}:{}'.format(win_count, loss_count))
    #print(max_down)
    #print(final)
    return data, win_count, loss_count, final[-1], max_down, tradetime, buy_hold[0], buy_hold[1]
